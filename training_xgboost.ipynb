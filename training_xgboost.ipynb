{
 "cells": [
  {
   "cell_type": "markdown",
   "metadata": {},
   "source": [
    "# Model training\n",
    "\n",
    "We decide to train the model with xgboost. We run through grid search for hyperparameters with hyperopt_xgb notebook. Since it is too time consuming, we stop it halfway, and tune them manually on top of the given suboptimized hyperparameters computed."
   ]
  },
  {
   "cell_type": "code",
   "execution_count": null,
   "metadata": {},
   "outputs": [],
   "source": [
    "import pandas as pd\n",
    "import numpy as np\n",
    "import matplotlib.pyplot as plt\n",
    "from IPython.core.interactiveshell import InteractiveShell\n",
    "from multiprocessing import Pool\n",
    "import xgboost as xgb\n",
    "from itertools import product\n",
    "import pickle\n",
    "InteractiveShell.ast_node_interactivity = \"all\"\n",
    "%matplotlib inline"
   ]
  },
  {
   "cell_type": "code",
   "execution_count": null,
   "metadata": {},
   "outputs": [],
   "source": [
    "test = pd.read_csv('test.csv')\n",
    "X_train = pd.read_csv('X_train.csv')\n",
    "X_cv = pd.read_csv('X_cv.csv')\n",
    "X_test = pd.read_csv('X_test.csv')"
   ]
  },
  {
   "cell_type": "code",
   "execution_count": 3,
   "metadata": {},
   "outputs": [],
   "source": [
    "params = {\n",
    "        'eta': 0.08, #best 0.08\n",
    "        'max_depth': 7,\n",
    "        'objective': 'reg:linear',\n",
    "        'eval_metric': 'rmse',\n",
    "        'seed': 3,\n",
    "        'gamma':1,\n",
    "        'silent': True\n",
    "    }"
   ]
  },
  {
   "cell_type": "code",
   "execution_count": 4,
   "metadata": {},
   "outputs": [
    {
     "name": "stdout",
     "output_type": "stream",
     "text": [
      "[0]\ttrain-rmse:3.39355\tvalid-rmse:2.61947\n",
      "Multiple eval metrics have been passed: 'valid-rmse' will be used for early stopping.\n",
      "\n",
      "Will train until valid-rmse hasn't improved in 50 rounds.\n",
      "[50]\ttrain-rmse:1.82179\tvalid-rmse:1.87885\n",
      "[100]\ttrain-rmse:1.76671\tvalid-rmse:1.8706\n",
      "[150]\ttrain-rmse:1.71617\tvalid-rmse:1.86389\n",
      "[200]\ttrain-rmse:1.67721\tvalid-rmse:1.85492\n",
      "[250]\ttrain-rmse:1.63726\tvalid-rmse:1.8364\n",
      "[300]\ttrain-rmse:1.61528\tvalid-rmse:1.83118\n",
      "Stopping. Best iteration:\n",
      "[298]\ttrain-rmse:1.61571\tvalid-rmse:1.83075\n",
      "\n"
     ]
    }
   ],
   "source": [
    "cols = [c for c in X_train.columns if c not in ['date_block_num', 'item_cnt_day',]]\n",
    "\n",
    "x1 = X_train[cols]\n",
    "y1 = X_train['item_cnt_day']\n",
    "x2 = X_cv[cols]\n",
    "y2 = X_cv['item_cnt_day']\n",
    "watchlist = [(xgb.DMatrix(x1, y1), 'train'), (xgb.DMatrix(x2, y2), 'valid')]\n",
    "model = xgb.train(params, xgb.DMatrix(x1, y1), 3500,  watchlist, maximize=False, verbose_eval=50, early_stopping_rounds=50)"
   ]
  },
  {
   "cell_type": "code",
   "execution_count": 5,
   "metadata": {},
   "outputs": [],
   "source": [
    "pickle.dump(model, open(\"xgb.pickle.dat\", \"wb\"))\n",
    "model = pickle.load(open(\"pima.pickle.dat\", \"rb\"))\n",
    "\n",
    "pred = model.predict(xgb.DMatrix(X_test[cols]), ntree_limit=model.best_ntree_limit)\n",
    "\n",
    "test['item_cnt_month'] = pred.clip(0,20)\n",
    "test.drop(['shop_id', 'item_id'], axis=1, inplace=True)\n",
    "test.to_csv('submission.csv', index=False)"
   ]
  },
  {
   "cell_type": "markdown",
   "metadata": {},
   "source": [
    "# Result\n",
    "\n",
    "[0]\ttrain-rmse:1.40592\tvalid-rmse:1.37868\n",
    "Multiple eval metrics have been passed: 'valid-rmse' will be used for early stopping.\n",
    "\n",
    "Will train until valid-rmse hasn't improved in 50 rounds.\n",
    "[50]\ttrain-rmse:1.03644\tvalid-rmse:1.14389\n",
    "[100]\ttrain-rmse:1.00372\tvalid-rmse:1.13304\n",
    "[150]\ttrain-rmse:0.987922\tvalid-rmse:1.12918\n",
    "[200]\ttrain-rmse:0.972436\tvalid-rmse:1.12584\n",
    "[250]\ttrain-rmse:0.960087\tvalid-rmse:1.12552\n",
    "[300]\ttrain-rmse:0.949489\tvalid-rmse:1.12458\n",
    "[350]\ttrain-rmse:0.940702\tvalid-rmse:1.12259\n",
    "[400]\ttrain-rmse:0.932332\tvalid-rmse:1.12257\n",
    "Stopping. Best iteration:\n",
    "[352]\ttrain-rmse:0.940543\tvalid-rmse:1.12231\n",
    "\n",
    "Due to the random seed, our score is roughly about 0.95 in public leaderboard and private leaderboard.\n"
   ]
  }
 ],
 "metadata": {
  "kernelspec": {
   "display_name": "Python 2",
   "language": "python",
   "name": "python2"
  },
  "language_info": {
   "codemirror_mode": {
    "name": "ipython",
    "version": 2
   },
   "file_extension": ".py",
   "mimetype": "text/x-python",
   "name": "python",
   "nbconvert_exporter": "python",
   "pygments_lexer": "ipython2",
   "version": "2.7.14"
  }
 },
 "nbformat": 4,
 "nbformat_minor": 2
}
